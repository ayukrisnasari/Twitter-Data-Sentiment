{
 "cells": [
  {
   "cell_type": "code",
   "execution_count": 1,
   "metadata": {},
   "outputs": [],
   "source": [
    "from tensorflow.keras.models import load_model\n",
    "import pickle\n",
    "from tensorflow.keras.preprocessing.text import Tokenizer\n",
    "from tensorflow.keras.preprocessing.sequence import pad_sequences\n",
    "\n",
    "# Load model\n",
    "model = load_model('best_model.h5')\n",
    "# loading\n",
    "with open('tokenizer.pickle', 'rb') as handle:\n",
    "    tokenizer = pickle.load(handle)\n",
    "\n",
    "def predict_class(text):\n",
    "    '''Function to predict sentiment class of the passed text'''\n",
    "    \n",
    "    sentiment_classes = ['Negative', 'Neutral', 'Positive']\n",
    "    max_len=50\n",
    "    \n",
    "    # Transforms text to a sequence of integers using a tokenizer object\n",
    "    xt = tokenizer.texts_to_sequences(text)\n",
    "    # Pad sequences to the same length\n",
    "    xt = pad_sequences(xt, padding='post', maxlen=max_len)\n",
    "    # Do the prediction using the loaded model\n",
    "    yt = model.predict(xt).argmax(axis=1)\n",
    "    # Print the predicted sentiment\n",
    "    print('The predicted sentiment is', sentiment_classes[yt[0]])\n",
    "    return sentiment_classes[yt[0]]"
   ]
  },
  {
   "cell_type": "code",
   "execution_count": 2,
   "metadata": {},
   "outputs": [
    {
     "name": "stdout",
     "output_type": "stream",
     "text": [
      "Tweet :  ['Ini keren banget bukunya dian sastro']\n",
      "The predicted sentiment is Positive\n",
      "\n",
      "\n",
      "Tweet :  ['Mau nonton konser Isyana']\n",
      "The predicted sentiment is Neutral\n",
      "\n",
      "\n",
      "Tweet :  ['Jaman ahok jakarta banjir terus']\n",
      "The predicted sentiment is Negative\n",
      "\n",
      "\n"
     ]
    }
   ],
   "source": [
    "tweet =[['Ini keren banget bukunya dian sastro'], ['Mau nonton konser Isyana'], ['Jaman ahok jakarta banjir terus']]\n",
    "print('Tweet : ',tweet[0])\n",
    "predict_class(tweet[0])\n",
    "print('\\n')\n",
    "print('Tweet : ',tweet[1])\n",
    "predict_class(tweet[1])\n",
    "print('\\n')\n",
    "print('Tweet : ',tweet[2])\n",
    "predict_class(tweet[2])\n",
    "print('\\n')\n"
   ]
  }
 ],
 "metadata": {
  "interpreter": {
   "hash": "9672202babfe875da30c3fdcdf920b69c15d9c2dd81dc67dad78a26d63d5040f"
  },
  "kernelspec": {
   "display_name": "Python 3.7.0 64-bit ('base': conda)",
   "language": "python",
   "name": "python3"
  },
  "language_info": {
   "codemirror_mode": {
    "name": "ipython",
    "version": 3
   },
   "file_extension": ".py",
   "mimetype": "text/x-python",
   "name": "python",
   "nbconvert_exporter": "python",
   "pygments_lexer": "ipython3",
   "version": "3.7.0"
  },
  "orig_nbformat": 4
 },
 "nbformat": 4,
 "nbformat_minor": 2
}
