{
 "cells": [
  {
   "cell_type": "code",
   "execution_count": 1,
   "metadata": {},
   "outputs": [
    {
     "name": "stderr",
     "output_type": "stream",
     "text": [
      "[nltk_data] Downloading package stopwords to\n",
      "[nltk_data]     C:\\Users\\Timedoor\\AppData\\Roaming\\nltk_data...\n",
      "[nltk_data]   Package stopwords is already up-to-date!\n"
     ]
    }
   ],
   "source": [
    "import pandas as pd\n",
    "#For Preprocessing\n",
    "import re    # RegEx for removing non-letter characters\n",
    "import nltk  #natural language processing\n",
    "nltk.download(\"stopwords\")\n",
    "from nltk.corpus import stopwords\n",
    "from nltk.stem.porter import *\n"
   ]
  },
  {
   "cell_type": "code",
   "execution_count": 2,
   "metadata": {},
   "outputs": [],
   "source": [
    " #emoticon code\n",
    "regrex_pattern = re.compile(\"[\"\n",
    "        u\"\\U0001F600-\\U0001F64F\"  # emoticons\n",
    "        u\"\\U0001F300-\\U0001F5FF\"  # symbols & pictographs\n",
    "        u\"\\U0001F680-\\U0001F6FF\"  # transport & map symbols\n",
    "        u\"\\U0001F1E0-\\U0001F1FF\"  # flags (iOS)\n",
    "        u\"\\U00002500-\\U00002BEF\"  # chinese char\n",
    "        u\"\\U00002702-\\U000027B0\"\n",
    "        u\"\\U00002702-\\U000027B0\"\n",
    "        u\"\\U000024C2-\\U0001F251\"\n",
    "        u\"\\U0001f926-\\U0001f937\"\n",
    "        u\"\\U00010000-\\U0010ffff\"\n",
    "        u\"\\u2640-\\u2642\" \n",
    "        u\"\\u2600-\\u2B55\"\n",
    "        u\"\\u200d\"\n",
    "        u\"\\u23cf\"\n",
    "        u\"\\u23e9\"\n",
    "        u\"\\u231a\"\n",
    "        u\"\\ufe0f\"  # dingbats\n",
    "        u\"\\u3030\"\n",
    "                      \"]+\", re.UNICODE)"
   ]
  },
  {
   "cell_type": "code",
   "execution_count": 3,
   "metadata": {},
   "outputs": [],
   "source": [
    "#function preprocessing \n",
    "''' Convert tweet text into a sequence of words '''\n",
    "def tweet_to_words(text):\n",
    "    \n",
    "    # remove non letters\n",
    "    text = re.sub(r'@[A-Za-z0-9]+', '', text) # remove mentions\n",
    "    text = re.sub(r'#[A-Za-z0-9]+', '', text) # remove hashtag\n",
    "    text = re.sub(r'RT[\\s]', '', text) # remove RT\n",
    "    text = re.sub(r\"http\\S+\", '', text) # remove link\n",
    "    text = re.sub(r\"[!@#$-()\\\"#/@;:<>{}=~|.?,‘’\\\\]\", '', text) # remove link\n",
    "    text = re.sub(r'[0-9]+', '', text) # remove numbers\n",
    "    text = regrex_pattern.sub(r'',text)\n",
    "\n",
    "    text = text.replace('\\n', ' ') # replace new line into space\n",
    "    # text = text.translate(str.maketrans('', '', string.punctuation)) # remove all punctuations\n",
    "    text = text.strip(' ') # remove characters space from both left and right text\n",
    "    # tokenize\n",
    "    print(\"After cleaning tweet : \",text)\n",
    "    # text to lowercase\n",
    "    text = text.lower()\n",
    "    print(\"After Lower Case : \",text)\n",
    "    #remove keywords\n",
    "    removal_list = [\"agnes\", \"mo\", \"agnez\",\"ahok\",\n",
    "                    \"anies\", \"baswedan\",\"bintang\",\n",
    "                    \"emon\",\"chef\",\"juna\",\"cinta\",\n",
    "                    \"laura\",\"maudy\",\"ayunda\",\"sherina\"\n",
    "                    ,\"munaf\",\"isyana\",\"dian\",\"sastro\",\n",
    "                    \"najwa\",\"shihab\",\"bu\",\"risma\",\"susi\",\n",
    "                    \"pudjiastuti\",\"sri\",\"mulyani\",\"nadiem\"\n",
    "                    ,\"makarim\",\"deddy\",\"corbuzier\",\"raffi\",\n",
    "                    \"ahmad\",\"dr\",\"tirta\",\"jerome\",\"polin\"]\n",
    "    string_as_list = text.split()\n",
    "    print(\"After Tokenize : \", string_as_list)\n",
    "    final_list = [word for word in string_as_list if word not in removal_list]\n",
    "    text = ' '.join(final_list)\n",
    "    words = text.split()\n",
    "    \n",
    "    # remove stopwords\n",
    "    words = [w for w in words if w not in stopwords.words(\"indonesian\")]\n",
    "    # apply stemming\n",
    "    # words = [PorterStemmer().stem(w) for w in words]\n",
    "    # return list\n",
    "    print(\"After stopwords removal :\", words)\n",
    "    # return words\n",
    "\n"
   ]
  },
  {
   "cell_type": "code",
   "execution_count": 4,
   "metadata": {},
   "outputs": [],
   "source": [
    "text = \"suka deh sama Jerome Polin karena dia pintar!😍https://t.co/t3k0GcRunv\""
   ]
  },
  {
   "cell_type": "code",
   "execution_count": 5,
   "metadata": {},
   "outputs": [
    {
     "name": "stdout",
     "output_type": "stream",
     "text": [
      "Original text :  suka deh sama Jerome Polin karena dia pintar!😍https://t.co/t3k0GcRunv\n",
      "After cleaning tweet :  suka deh sama Jerome Polin karena dia pintar\n",
      "After Lower Case :  suka deh sama jerome polin karena dia pintar\n",
      "After Tokenize :  ['suka', 'deh', 'sama', 'jerome', 'polin', 'karena', 'dia', 'pintar']\n",
      "After stopwords removal : ['suka', 'deh', 'pintar']\n"
     ]
    }
   ],
   "source": [
    "print(\"Original text : \", text)\n",
    "tweet_to_words(text)"
   ]
  }
 ],
 "metadata": {
  "interpreter": {
   "hash": "9672202babfe875da30c3fdcdf920b69c15d9c2dd81dc67dad78a26d63d5040f"
  },
  "kernelspec": {
   "display_name": "Python 3.7.0 64-bit ('base': conda)",
   "language": "python",
   "name": "python3"
  },
  "language_info": {
   "codemirror_mode": {
    "name": "ipython",
    "version": 3
   },
   "file_extension": ".py",
   "mimetype": "text/x-python",
   "name": "python",
   "nbconvert_exporter": "python",
   "pygments_lexer": "ipython3",
   "version": "3.7.0"
  },
  "orig_nbformat": 4
 },
 "nbformat": 4,
 "nbformat_minor": 2
}
