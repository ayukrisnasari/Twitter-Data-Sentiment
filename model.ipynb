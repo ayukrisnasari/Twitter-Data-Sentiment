{
 "cells": [
  {
   "cell_type": "markdown",
   "metadata": {},
   "source": [
    "# PREPROCESSING"
   ]
  },
  {
   "cell_type": "code",
   "execution_count": 1,
   "metadata": {},
   "outputs": [
    {
     "name": "stderr",
     "output_type": "stream",
     "text": [
      "[nltk_data] Downloading package stopwords to\n",
      "[nltk_data]     C:\\Users\\Timedoor\\AppData\\Roaming\\nltk_data...\n",
      "[nltk_data]   Package stopwords is already up-to-date!\n"
     ]
    }
   ],
   "source": [
    "import pandas as pd\n",
    "#For Preprocessing\n",
    "import re    # RegEx for removing non-letter characters\n",
    "import nltk  #natural language processing\n",
    "nltk.download(\"stopwords\")\n",
    "from nltk.corpus import stopwords\n",
    "from nltk.stem.porter import *\n",
    "\n",
    "#for \n",
    "import matplotlib.pyplot as plt\n",
    "import matplotlib.patches as mpatches\n",
    "%matplotlib inline\n",
    "#pd.options.plotting.backend = \"plotly\"\n",
    "\n",
    "from sklearn.preprocessing import LabelEncoder"
   ]
  },
  {
   "cell_type": "code",
   "execution_count": 2,
   "metadata": {},
   "outputs": [
    {
     "data": {
      "text/html": [
       "<div>\n",
       "<style scoped>\n",
       "    .dataframe tbody tr th:only-of-type {\n",
       "        vertical-align: middle;\n",
       "    }\n",
       "\n",
       "    .dataframe tbody tr th {\n",
       "        vertical-align: top;\n",
       "    }\n",
       "\n",
       "    .dataframe thead th {\n",
       "        text-align: right;\n",
       "    }\n",
       "</style>\n",
       "<table border=\"1\" class=\"dataframe\">\n",
       "  <thead>\n",
       "    <tr style=\"text-align: right;\">\n",
       "      <th></th>\n",
       "      <th>text</th>\n",
       "      <th>label</th>\n",
       "    </tr>\n",
       "  </thead>\n",
       "  <tbody>\n",
       "    <tr>\n",
       "      <th>0</th>\n",
       "      <td>sumpah ini gue baru aja ngeliat fans nya agnes...</td>\n",
       "      <td>-1</td>\n",
       "    </tr>\n",
       "    <tr>\n",
       "      <th>1</th>\n",
       "      <td>@myxynerva coba dengerin lagunya agnes mo yg p...</td>\n",
       "      <td>0</td>\n",
       "    </tr>\n",
       "    <tr>\n",
       "      <th>2</th>\n",
       "      <td>@aewin86 Agnes mo #siBungsu \\nNgasal banget ak...</td>\n",
       "      <td>0</td>\n",
       "    </tr>\n",
       "    <tr>\n",
       "      <th>3</th>\n",
       "      <td>nah mangkanya stream lagu indo atau western aj...</td>\n",
       "      <td>0</td>\n",
       "    </tr>\n",
       "    <tr>\n",
       "      <th>4</th>\n",
       "      <td>Agnez Mo tapi (Waktu Jadi Agnes Monica) https:...</td>\n",
       "      <td>0</td>\n",
       "    </tr>\n",
       "  </tbody>\n",
       "</table>\n",
       "</div>"
      ],
      "text/plain": [
       "                                                text  label\n",
       "0  sumpah ini gue baru aja ngeliat fans nya agnes...     -1\n",
       "1  @myxynerva coba dengerin lagunya agnes mo yg p...      0\n",
       "2  @aewin86 Agnes mo #siBungsu \\nNgasal banget ak...      0\n",
       "3  nah mangkanya stream lagu indo atau western aj...      0\n",
       "4  Agnez Mo tapi (Waktu Jadi Agnes Monica) https:...      0"
      ]
     },
     "execution_count": 2,
     "metadata": {},
     "output_type": "execute_result"
    }
   ],
   "source": [
    "#baca data\n",
    "df = pd.read_csv('dataset-tokoh-indo.csv')\n",
    "df.head()"
   ]
  },
  {
   "cell_type": "code",
   "execution_count": 3,
   "metadata": {},
   "outputs": [
    {
     "data": {
      "text/html": [
       "<div>\n",
       "<style scoped>\n",
       "    .dataframe tbody tr th:only-of-type {\n",
       "        vertical-align: middle;\n",
       "    }\n",
       "\n",
       "    .dataframe tbody tr th {\n",
       "        vertical-align: top;\n",
       "    }\n",
       "\n",
       "    .dataframe thead th {\n",
       "        text-align: right;\n",
       "    }\n",
       "</style>\n",
       "<table border=\"1\" class=\"dataframe\">\n",
       "  <thead>\n",
       "    <tr style=\"text-align: right;\">\n",
       "      <th></th>\n",
       "      <th>text</th>\n",
       "      <th>label</th>\n",
       "    </tr>\n",
       "  </thead>\n",
       "  <tbody>\n",
       "    <tr>\n",
       "      <th>0</th>\n",
       "      <td>sumpah ini gue baru aja ngeliat fans nya agnes...</td>\n",
       "      <td>-1.0</td>\n",
       "    </tr>\n",
       "    <tr>\n",
       "      <th>1</th>\n",
       "      <td>@myxynerva coba dengerin lagunya agnes mo yg p...</td>\n",
       "      <td>0.0</td>\n",
       "    </tr>\n",
       "    <tr>\n",
       "      <th>2</th>\n",
       "      <td>@aewin86 Agnes mo #siBungsu \\nNgasal banget ak...</td>\n",
       "      <td>0.0</td>\n",
       "    </tr>\n",
       "    <tr>\n",
       "      <th>3</th>\n",
       "      <td>nah mangkanya stream lagu indo atau western aj...</td>\n",
       "      <td>0.0</td>\n",
       "    </tr>\n",
       "    <tr>\n",
       "      <th>4</th>\n",
       "      <td>Agnez Mo tapi (Waktu Jadi Agnes Monica) https:...</td>\n",
       "      <td>0.0</td>\n",
       "    </tr>\n",
       "  </tbody>\n",
       "</table>\n",
       "</div>"
      ],
      "text/plain": [
       "                                                text  label\n",
       "0  sumpah ini gue baru aja ngeliat fans nya agnes...   -1.0\n",
       "1  @myxynerva coba dengerin lagunya agnes mo yg p...    0.0\n",
       "2  @aewin86 Agnes mo #siBungsu \\nNgasal banget ak...    0.0\n",
       "3  nah mangkanya stream lagu indo atau western aj...    0.0\n",
       "4  Agnez Mo tapi (Waktu Jadi Agnes Monica) https:...    0.0"
      ]
     },
     "execution_count": 3,
     "metadata": {},
     "output_type": "execute_result"
    }
   ],
   "source": [
    "#ganti label jadi -1.0 , 0.0m dan 1.0\n",
    "df['label'] = df['label'].map({-1: -1.0, 0: 0.0, 1:1.0})\n",
    "df.head()"
   ]
  },
  {
   "cell_type": "code",
   "execution_count": 4,
   "metadata": {},
   "outputs": [
    {
     "data": {
      "text/plain": [
       "text     0\n",
       "label    0\n",
       "dtype: int64"
      ]
     },
     "execution_count": 4,
     "metadata": {},
     "output_type": "execute_result"
    }
   ],
   "source": [
    "#cek kolom yang kosong\n",
    "df.isnull().sum()"
   ]
  },
  {
   "cell_type": "code",
   "execution_count": 5,
   "metadata": {},
   "outputs": [
    {
     "data": {
      "text/html": [
       "<div>\n",
       "<style scoped>\n",
       "    .dataframe tbody tr th:only-of-type {\n",
       "        vertical-align: middle;\n",
       "    }\n",
       "\n",
       "    .dataframe tbody tr th {\n",
       "        vertical-align: top;\n",
       "    }\n",
       "\n",
       "    .dataframe thead th {\n",
       "        text-align: right;\n",
       "    }\n",
       "</style>\n",
       "<table border=\"1\" class=\"dataframe\">\n",
       "  <thead>\n",
       "    <tr style=\"text-align: right;\">\n",
       "      <th></th>\n",
       "      <th>text</th>\n",
       "      <th>label</th>\n",
       "    </tr>\n",
       "  </thead>\n",
       "  <tbody>\n",
       "    <tr>\n",
       "      <th>0</th>\n",
       "      <td>sumpah ini gue baru aja ngeliat fans nya agnes...</td>\n",
       "      <td>Negative</td>\n",
       "    </tr>\n",
       "    <tr>\n",
       "      <th>1</th>\n",
       "      <td>@myxynerva coba dengerin lagunya agnes mo yg p...</td>\n",
       "      <td>Neutral</td>\n",
       "    </tr>\n",
       "    <tr>\n",
       "      <th>2</th>\n",
       "      <td>@aewin86 Agnes mo #siBungsu \\nNgasal banget ak...</td>\n",
       "      <td>Neutral</td>\n",
       "    </tr>\n",
       "    <tr>\n",
       "      <th>3</th>\n",
       "      <td>nah mangkanya stream lagu indo atau western aj...</td>\n",
       "      <td>Neutral</td>\n",
       "    </tr>\n",
       "    <tr>\n",
       "      <th>4</th>\n",
       "      <td>Agnez Mo tapi (Waktu Jadi Agnes Monica) https:...</td>\n",
       "      <td>Neutral</td>\n",
       "    </tr>\n",
       "  </tbody>\n",
       "</table>\n",
       "</div>"
      ],
      "text/plain": [
       "                                                text     label\n",
       "0  sumpah ini gue baru aja ngeliat fans nya agnes...  Negative\n",
       "1  @myxynerva coba dengerin lagunya agnes mo yg p...   Neutral\n",
       "2  @aewin86 Agnes mo #siBungsu \\nNgasal banget ak...   Neutral\n",
       "3  nah mangkanya stream lagu indo atau western aj...   Neutral\n",
       "4  Agnez Mo tapi (Waktu Jadi Agnes Monica) https:...   Neutral"
      ]
     },
     "execution_count": 5,
     "metadata": {},
     "output_type": "execute_result"
    }
   ],
   "source": [
    "#ganti lagi label jadi negative, pos, net\n",
    "df['label'] = df['label'].map({-1.0:'Negative', 0.0:'Neutral', 1.0:'Positive'})\n",
    "df.head()"
   ]
  },
  {
   "cell_type": "code",
   "execution_count": 6,
   "metadata": {},
   "outputs": [
    {
     "data": {
      "text/plain": [
       "<AxesSubplot:xlabel='label'>"
      ]
     },
     "execution_count": 6,
     "metadata": {},
     "output_type": "execute_result"
    },
    {
     "data": {
      "image/png": "[encoded data removed]",
      "text/plain": [
       "<Figure size 432x288 with 1 Axes>"
      ]
     },
     "metadata": {
      "needs_background": "light"
     },
     "output_type": "display_data"
    }
   ],
   "source": [
    "# grafik jumlah data perlabel\n",
    "df.groupby('label').count().plot(kind='bar')"
   ]
  },
  {
   "cell_type": "code",
   "execution_count": 7,
   "metadata": {},
   "outputs": [
    {
     "data": {
      "text/plain": [
       "<AxesSubplot:>"
      ]
     },
     "execution_count": 7,
     "metadata": {},
     "output_type": "execute_result"
    },
    {
     "data": {
      "image/png": "[encoded data removed]",
      "text/plain": [
       "<Figure size 432x288 with 1 Axes>"
      ]
     },
     "metadata": {
      "needs_background": "light"
     },
     "output_type": "display_data"
    }
   ],
   "source": [
    "# kalkulasi panjang text\n",
    "tweet_len = pd.Series([len(tweet.split()) for tweet in df['text']])\n",
    "\n",
    "# distribusi panjang text\n",
    "tweet_len.plot(kind='box')"
   ]
  },
  {
   "cell_type": "code",
   "execution_count": 8,
   "metadata": {},
   "outputs": [],
   "source": [
    " #emoticon code\n",
    "regrex_pattern = re.compile(\"[\"\n",
    "        u\"\\U0001F600-\\U0001F64F\"  # emoticons\n",
    "        u\"\\U0001F300-\\U0001F5FF\"  # symbols & pictographs\n",
    "        u\"\\U0001F680-\\U0001F6FF\"  # transport & map symbols\n",
    "        u\"\\U0001F1E0-\\U0001F1FF\"  # flags (iOS)\n",
    "        u\"\\U00002500-\\U00002BEF\"  # chinese char\n",
    "        u\"\\U00002702-\\U000027B0\"\n",
    "        u\"\\U00002702-\\U000027B0\"\n",
    "        u\"\\U000024C2-\\U0001F251\"\n",
    "        u\"\\U0001f926-\\U0001f937\"\n",
    "        u\"\\U00010000-\\U0010ffff\"\n",
    "        u\"\\u2640-\\u2642\" \n",
    "        u\"\\u2600-\\u2B55\"\n",
    "        u\"\\u200d\"\n",
    "        u\"\\u23cf\"\n",
    "        u\"\\u23e9\"\n",
    "        u\"\\u231a\"\n",
    "        u\"\\ufe0f\"  # dingbats\n",
    "        u\"\\u3030\"\n",
    "                      \"]+\", re.UNICODE)"
   ]
  },
  {
   "cell_type": "code",
   "execution_count": 9,
   "metadata": {},
   "outputs": [
    {
     "name": "stdout",
     "output_type": "stream",
     "text": [
      "\n",
      "Original tweet -> @myxynerva coba dengerin lagunya agnes mo yg pas thun 2000an\n",
      "\n",
      "Processed tweet -> ['coba', 'dengerin', 'lagunya', 'yg', 'pas', 'thun', 'an']\n"
     ]
    }
   ],
   "source": [
    "#function preprocessing \n",
    "''' Convert tweet text into a sequence of words '''\n",
    "def tweet_to_words(text):\n",
    "    \n",
    "    # remove non letters\n",
    "    text = re.sub(r'@[A-Za-z0-9]+', '', text) # remove mentions\n",
    "    text = re.sub(r'#[A-Za-z0-9]+', '', text) # remove hashtag\n",
    "    text = re.sub(r'RT[\\s]', '', text) # remove RT\n",
    "    text = re.sub(r\"http\\S+\", '', text) # remove link\n",
    "    text = re.sub(r\"[!@#$-()\\\"#/@;:<>{}=~|.?,‘’\\\\]\", '', text) # remove link\n",
    "    text = re.sub(r'[0-9]+', '', text) # remove numbers\n",
    "    text = regrex_pattern.sub(r'',text)\n",
    "\n",
    "    text = text.replace('\\n', ' ') # replace new line into space\n",
    "    # text = text.translate(str.maketrans('', '', string.punctuation)) # remove all punctuations\n",
    "    text = text.strip(' ') # remove characters space from both left and right text\n",
    "    # tokenize\n",
    "    # text to lowercase\n",
    "    text = text.lower()\n",
    "    #remove keywords\n",
    "    removal_list = [\"agnes\", \"mo\", \"agnez\",\"ahok\",\n",
    "                    \"anies\", \"baswedan\",\"bintang\",\n",
    "                    \"emon\",\"chef\",\"juna\",\"cinta\",\n",
    "                    \"laura\",\"maudy\",\"ayunda\",\"sherina\"\n",
    "                    ,\"munaf\",\"isyana\",\"dian\",\"sastro\",\n",
    "                    \"najwa\",\"shihab\",\"bu\",\"risma\",\"susi\",\n",
    "                    \"pudjiastuti\",\"sri\",\"mulyani\",\"nadiem\"\n",
    "                    ,\"makarim\",\"deddy\",\"corbuzier\",\"raffi\",\n",
    "                    \"ahmad\",\"dr\",\"tirta\",\"jerome\",\"polin\"]\n",
    "    string_as_list = text.split()\n",
    "    final_list = [word for word in string_as_list if word not in removal_list]\n",
    "    text = ' '.join(final_list)\n",
    "    words = text.split()\n",
    "    # remove stopwords\n",
    "    words = [w for w in words if w not in stopwords.words(\"indonesian\")]\n",
    "    # apply stemming\n",
    "    # words = [PorterStemmer().stem(w) for w in words]\n",
    "    # return list\n",
    "    return words\n",
    "\n",
    "print(\"\\nOriginal tweet ->\", df['text'][1])\n",
    "print(\"\\nProcessed tweet ->\", tweet_to_words(df['text'][1]))"
   ]
  },
  {
   "cell_type": "code",
   "execution_count": 10,
   "metadata": {},
   "outputs": [
    {
     "data": {
      "text/plain": [
       "['kaga', 'lucu']"
      ]
     },
     "execution_count": 10,
     "metadata": {},
     "output_type": "execute_result"
    }
   ],
   "source": [
    "# Apply data processing to each tweet\n",
    "X = list(map(tweet_to_words, df['text']))\n",
    "X[555]"
   ]
  },
  {
   "cell_type": "code",
   "execution_count": 11,
   "metadata": {},
   "outputs": [
    {
     "data": {
      "text/plain": [
       "['kaga', 'lucu']"
      ]
     },
     "execution_count": 11,
     "metadata": {},
     "output_type": "execute_result"
    }
   ],
   "source": [
    "X[555]"
   ]
  },
  {
   "cell_type": "code",
   "execution_count": 12,
   "metadata": {},
   "outputs": [
    {
     "data": {
      "text/plain": [
       "array([0, 1, 1, ..., 0, 0, 0])"
      ]
     },
     "execution_count": 12,
     "metadata": {},
     "output_type": "execute_result"
    }
   ],
   "source": [
    "\n",
    "'''This approach is very simple and it involves converting each value in a column to a number. '''\n",
    "# Encode target labels\n",
    "le = LabelEncoder()\n",
    "Y = le.fit_transform(df['label'])\n",
    "Y"
   ]
  },
  {
   "cell_type": "code",
   "execution_count": 13,
   "metadata": {},
   "outputs": [
    {
     "name": "stdout",
     "output_type": "stream",
     "text": [
      "Negative\n",
      "------------\n",
      "['sumpah', 'gue', 'aja', 'ngeliat', 'fans', 'nya', 'nge', 'war', 'tl']\n",
      "0\n",
      "------------\n",
      "Neutral\n",
      "------------\n",
      "['coba', 'dengerin', 'lagunya', 'yg', 'pas', 'thun', 'an']\n",
      "1\n",
      "------------\n",
      "Positive\n",
      "------------\n",
      "['kak', 'cantik', 'bgt']\n",
      "2\n"
     ]
    }
   ],
   "source": [
    "print('Negative')\n",
    "print('------------')\n",
    "print(X[0])\n",
    "print(Y[0])\n",
    "print('------------')\n",
    "print('Neutral')\n",
    "print('------------')\n",
    "print(X[1])\n",
    "print(Y[1])\n",
    "\n",
    "print('------------')\n",
    "print('Positive')\n",
    "print('------------')\n",
    "print(X[5])\n",
    "print(Y[5])"
   ]
  },
  {
   "cell_type": "markdown",
   "metadata": {},
   "source": [
    "# BUILD MODEL"
   ]
  },
  {
   "cell_type": "code",
   "execution_count": 14,
   "metadata": {},
   "outputs": [],
   "source": [
    "# For Building the model\n",
    "from sklearn.model_selection import train_test_split\n",
    "from sklearn.feature_extraction.text import CountVectorizer\n",
    "from sklearn.metrics import confusion_matrix\n",
    "\n",
    "import pickle\n",
    "import seaborn as sns\n",
    "import numpy as np\n",
    "\n",
    "import tensorflow as tf\n",
    "import tensorflow.keras.backend as K\n",
    "\n",
    "from tensorflow.keras.preprocessing.text import Tokenizer\n",
    "from tensorflow.keras.preprocessing.sequence import pad_sequences"
   ]
  },
  {
   "cell_type": "code",
   "execution_count": 15,
   "metadata": {},
   "outputs": [],
   "source": [
    "#Split data train and test\n",
    "y = pd.get_dummies(df['label'])\n",
    "X_train, X_test, y_train, y_test = train_test_split(X, y, test_size=0.2, random_state=1)\n",
    "X_train, X_val, y_train, y_val = train_test_split(X_train, y_train, test_size=0.25, random_state=1)"
   ]
  },
  {
   "cell_type": "code",
   "execution_count": 16,
   "metadata": {},
   "outputs": [],
   "source": [
    "vocabulary_size = 5000\n",
    "\n",
    "# Tweets have already been preprocessed hence dummy function will be passed in \n",
    "# to preprocessor & tokenizer step\n",
    "count_vector = CountVectorizer(max_features=vocabulary_size, preprocessor=lambda x: x,tokenizer=lambda x: x) \n",
    "\n",
    "# Fit the training data\n",
    "X_train = count_vector.fit_transform(X_train).toarray()\n",
    "\n",
    "# Transform testing data\n",
    "X_test = count_vector.transform(X_test).toarray()"
   ]
  },
  {
   "cell_type": "code",
   "execution_count": 17,
   "metadata": {},
   "outputs": [
    {
     "name": "stdout",
     "output_type": "stream",
     "text": [
      "['asem', 'aset', 'aset…', 'asi', 'asiiik', 'asik', 'asikk', 'asikkk', 'asing', 'asisten', 'asjksjdsk', 'askara', 'asli', 'aslii', 'aslik', 'aslinya', 'asmara', 'aspek', 'assalamualaikum', 'astaga', 'astagaaa', 'astra', 'asu', 'asuh', 'asuhan', 'asumsi', 'at', 'atasi', 'atau…', 'atawa', 'ata…', 'ateis', 'atlet', 'ats…', 'atta', 'attack', 'atur', 'aturan', 'atuy', 'atw', 'at…', 'au', 'auda', 'audah', 'audrey', 'aula', 'aura', 'auranya', 'aurat', 'auto', 'automatis', 'award', 'awas', 'awet', 'ayah', 'ayahhhhhhhh', 'ayam', 'ayat', 'ayo', 'ayok', 'ayooo', 'ayundajerome', 'ayundasherina', 'ayunda—punya', 'ay…', 'azab', 'azis', 'azriel', 'a…', 'b', 'ba', 'bab', 'babak', 'babe', 'babel', 'babi', 'babibegudal', 'bablas', 'babycam', 'baca', 'baca-baca', 'bacaan', 'bacanya', 'bacanya…', 'backing-annya', 'backingannya', 'bacod', 'bacot', 'bacotan', 'bacotnya', 'badan', 'badannya', 'bade', 'bae', 'bag', 'bagaslah', 'bagi-bagi', 'bagikan', 'baginya', 'bagi²', 'bagong', 'bagoosss', 'bagus', 'bagusin', 'baguslah', 'bagusnya', 'baguss', 'bagusss', 'bagus…', 'bahagia', 'bahak', 'bahan', 'bahas', 'bahasa', 'bahasanya', 'bahaya', 'bahayanya', 'baheula', 'bahwa…', 'baik-baik', 'baik-baik”', 'baiknya', 'baik…', 'bai…', 'bajaj', 'bajingan', 'baju', 'bajunya', 'bak', 'bakar', 'bakar-bakaran', 'bakat', 'bakatnya', 'bakso', 'baku', 'bak…', 'balai', 'balaikotaminta', 'balas', 'balau', 'balet', 'bali', 'bali…', 'bambang', 'bamus', 'banana', 'banbdr', 'banci', 'band', 'bandara', 'banding', 'bandingin', 'bandinginnya', 'bandingkan', 'bang', 'bangeeeett', 'bangeett', 'banget', 'bangett', 'bangettr', 'bangettt', 'bangetttt', 'bangetujungnya', 'banget…', 'bangga', 'banggain', 'bangganya', 'banggga', 'banggsa', 'bangke', 'bangkit', 'bangkitkan', 'bangkrut', 'bangon', 'bangsa', 'bangsanya', 'bangsat', 'bangun', 'bangun…', 'bani', 'banjir', 'banjiri', 'banjirprogram', 'bank', 'bansos', 'bantahan', 'bantaran', 'banteng', 'banting', 'bantu', 'bantuan', 'bantuin', 'banyaknya', 'banyak…', 'banya…', 'banyu', 'bany…', 'ban…', 'baongbanyak', 'bapa', 'bapaknya', 'baper', 'bap…', 'barakallah', 'barang', 'barang-barang', 'barangkali', 'barangnya', 'barat', 'barbie', 'barcode', 'bareng', 'barengan', 'bareng”', 'barisan', 'barnya', 'barokallah', 'barokalloh', 'baru-baru', 'baru-b…', 'barusan', 'baru…', 'basahnya', 'base', 'basi', 'baskara', 'basket…', 'basmi', 'basuki', 'basuki…', 'baswedandari', 'baswedanitu', 'baswedanpasti', 'baswedanpdip', 'baswedanrajin', 'baswedansmg', 'baswedantidak', 'baswedan…', 'basweda…', 'baswe…', 'basw…', 'bas…', 'bat', 'batak', 'batal', 'batalkan', 'batik', 'batman', 'batubara', 'batuk', 'batur', 'bau', 'baunya', 'bawa', 'bawa-bawa', 'bawakan', 'bawak…', 'bawangnya', 'bawarlu', 'bayangin', 'bayangkan', 'bayar', 'bayaran', 'bayar…', 'bayi', 'ba…', 'bbc', 'bbm', 'bbm…', 'bbrp', 'bcl', 'bdw', 'be', 'beakeun', 'beasiswa', 'beauty', 'beban', 'bebani', 'bebas', 'bebek', 'bebeknya', 'beberkan', 'bebogohan', 'bebs', 'becanda', 'becus', 'beda', 'bedah', 'bedakan', 'bedanya', 'beda…', 'begiti', 'bego', 'begundal', 'behavior', 'behhhhh', 'being', 'bekal', 'bekas', 'bekasi', 'bekerjasama', 'bek…', 'bela', 'belaga', 'belahar', 'belajar', 'belakangnya', 'belanda', 'belanja', 'beli', 'beliau', 'beliausalah', 'beliau…', 'belibet', 'bella', 'belom', 'belon', 'belu…', 'bel…', 'bem', 'benahi', 'benar-benar', 'benar-benar…', 'benar…', 'bencana', 'benci', 'bencinya', 'benda', 'bendungan', 'bener', 'bener-bener', 'beneran', 'benerrrd', 'bener…', 'bengek', 'bennernya', 'bensin', 'bentar', 'bentuk', 'beom', 'beos', 'bepergian', 'ber', 'beracun', 'beradu', 'beragam', 'beragama', 'berakhirn…', 'beraksi', 'berangkat', 'berani', 'beraninya', 'berantakan', 'berantem', 'beras', 'berasa', 'berasal', 'berat', 'berati', 'beratkan', 'berbagi', 'berbahasa', 'berbahasa…', 'berbakat', 'berbasis', 'berbeda', 'berbekas', 'berbincang', 'berbincang-bincang', 'berbisnis', 'berbohong', 'berbuatjgn', 'bercanda', 'bercerita”', 'berda…', 'berdebat', 'berdendang', 'berdiri', 'berdiskusi', 'berdua', 'bereaksi', 'beredar', 'bereksperimen', 'beres', 'berfikir', 'bergaransi', 'bergaransi‼', 'bergejala', 'bergembira', 'bergeming', 'bergerak', 'bergerak…', 'berharap', 'berharga', 'berhasil', 'berhenti', 'berhubung', 'berh…', 'beribadah', 'berintegritas', 'berisi', 'berisik', 'berita', 'berita-berita', 'beritanya', 'berjalannya', 'berjasa', 'berjilid', 'berjiwa', 'berjodoh', 'berjuang', 'berjudul', 'berjudulkan', 'berkaca-kaca…', 'berkarya', 'berkat', 'berkelahi', 'berkelas', 'berkembang', 'berkesan', 'berkeyakinan', 'berkharisma', 'berkhianat*', 'berkinerja', 'berkisah', 'berkoalisi', 'berkomentar', 'berkomitm…', 'berkompetensi', 'berkompetisi', 'berkualitas', 'berkunjung', 'berkurang', 'berlaku', 'berlanjut', 'berlebih', 'berlibur', 'berlindung', 'bermamfaat', 'bermanfaat', 'bermartabat', 'bermasalah', 'bermimpi', 'bermim…', 'bermina…', 'bermksd', 'bernama', 'berobat', 'beropini', 'berotot', 'berpat…', 'berpegangan', 'berpeluang', 'berpendidikan', 'berpendidikannya', 'berpengalaman', 'berpengaruh', 'berpesan', 'berpikir', 'berpikiran', 'berpisah', 'berprestasi', 'berprivilege', 'berpr…', 'berpuisi', 'bersabda', 'bersaksi', 'bersantai', 'bersatu', 'berseberangan', 'berseloroh', 'bersentuhan', 'berseragam', 'bersih', 'bersihin', 'bersilit', 'berstatus', 'bersuara', 'bersyahadat', 'bersyukur…', 'bertahan', 'bertahun-tahun', 'bertele-tele', 'berteman', 'bertempat', 'bertemu', 'berterima', 'bertindak', 'bertujuan', 'berubah', 'berulang', 'beruntun', 'berupaya', 'berusaha', 'berwibawanya', 'ber…', 'besar-besaran', 'besarlah', 'beserta', 'besok']\n"
     ]
    },
    {
     "name": "stderr",
     "output_type": "stream",
     "text": [
      "C:\\Users\\Timedoor\\AppData\\Local\\Programs\\Python\\Python37\\lib\\site-packages\\sklearn\\utils\\deprecation.py:87: FutureWarning: Function get_feature_names is deprecated; get_feature_names is deprecated in 1.0 and will be removed in 1.2. Please use get_feature_names_out instead.\n",
      "  warnings.warn(msg, category=FutureWarning)\n"
     ]
    }
   ],
   "source": [
    "print(count_vector.get_feature_names()[500:1000])"
   ]
  },
  {
   "cell_type": "code",
   "execution_count": 18,
   "metadata": {},
   "outputs": [
    {
     "data": {
      "image/png": "[encoded data removed]",
      "text/plain": [
       "<Figure size 432x288 with 1 Axes>"
      ]
     },
     "metadata": {
      "needs_background": "light"
     },
     "output_type": "display_data"
    }
   ],
   "source": [
    "# Plot the BoW feature vector\n",
    "plt.plot(X_train[2,:])\n",
    "plt.xlabel('Word')\n",
    "plt.ylabel('Count')\n",
    "plt.show()"
   ]
  },
  {
   "cell_type": "code",
   "execution_count": 19,
   "metadata": {},
   "outputs": [
    {
     "name": "stdout",
     "output_type": "stream",
     "text": [
      "Before Tokenization & Padding \n",
      " Aku Bangga sama Om Deddy Corbuzier keren banget dia multitalenta bangettt\n",
      "#Deddy\n",
      "After Tokenization & Padding \n",
      " [  40   51 1168  539    0    0    0    0    0    0    0    0    0    0\n",
      "    0    0    0    0    0    0    0    0    0    0    0    0    0    0\n",
      "    0    0    0    0    0    0    0    0    0    0    0    0    0    0\n",
      "    0    0    0    0    0    0    0    0]\n"
     ]
    }
   ],
   "source": [
    "\n",
    "\n",
    "max_words = 5000\n",
    "max_len=50\n",
    "\n",
    "def tokenize_pad_sequences(text):\n",
    "    '''\n",
    "    This function tokenize the input text into sequnences of intergers and then\n",
    "    pad each sequence to the same length\n",
    "    '''\n",
    "    # Text tokenization\n",
    "    tokenizer = Tokenizer(num_words=max_words, lower=True, split=' ')\n",
    "    tokenizer.fit_on_texts(text)\n",
    "    # Transforms text to a sequence of integers\n",
    "    X = tokenizer.texts_to_sequences(text)\n",
    "    # Pad sequences to the same length\n",
    "    X = pad_sequences(X, padding='post', maxlen=max_len)\n",
    "    # return sequences\n",
    "    return X, tokenizer\n",
    "\n",
    "print('Before Tokenization & Padding \\n', df['text'][1107])\n",
    "X, tokenizer = tokenize_pad_sequences(df['text'])\n",
    "print('After Tokenization & Padding \\n', X[555])\n"
   ]
  },
  {
   "cell_type": "code",
   "execution_count": 20,
   "metadata": {},
   "outputs": [],
   "source": [
    "\n",
    "\n",
    "# saving\n",
    "with open('tokenizer.pickle', 'wb') as handle:\n",
    "    pickle.dump(tokenizer, handle, protocol=pickle.HIGHEST_PROTOCOL)\n",
    "\n",
    "# loading\n",
    "with open('tokenizer.pickle', 'rb') as handle:\n",
    "    tokenizer = pickle.load(handle)"
   ]
  },
  {
   "cell_type": "code",
   "execution_count": 21,
   "metadata": {},
   "outputs": [
    {
     "name": "stdout",
     "output_type": "stream",
     "text": [
      "Train Set -> (3240, 50) (3240, 3)\n",
      "Validation Set -> (1080, 50) (1080, 3)\n",
      "Test Set -> (1080, 50) (1080, 3)\n"
     ]
    }
   ],
   "source": [
    "y = pd.get_dummies(df['label'])\n",
    "X_train, X_test, y_train, y_test = train_test_split(X, y, test_size=0.2, random_state=1)\n",
    "X_train, X_val, y_train, y_val = train_test_split(X_train, y_train, test_size=0.25, random_state=1)\n",
    "print('Train Set ->', X_train.shape, y_train.shape)\n",
    "print('Validation Set ->', X_val.shape, y_val.shape)\n",
    "print('Test Set ->', X_test.shape, y_test.shape)"
   ]
  },
  {
   "cell_type": "code",
   "execution_count": 22,
   "metadata": {},
   "outputs": [],
   "source": [
    "def f1_score(precision, recall):\n",
    "    ''' Function to calculate f1 score '''\n",
    "    \n",
    "    f1_val = 2*(precision*recall)/(precision+recall+K.epsilon())\n",
    "    return f1_val"
   ]
  },
  {
   "cell_type": "code",
   "execution_count": 45,
   "metadata": {},
   "outputs": [
    {
     "name": "stderr",
     "output_type": "stream",
     "text": [
      "C:\\Users\\Timedoor\\AppData\\Local\\Programs\\Python\\Python37\\lib\\site-packages\\keras\\optimizer_v2\\gradient_descent.py:102: UserWarning: The `lr` argument is deprecated, use `learning_rate` instead.\n",
      "  super(SGD, self).__init__(name, **kwargs)\n"
     ]
    }
   ],
   "source": [
    "from tensorflow.keras.models import Sequential\n",
    "from tensorflow.keras.layers import Embedding, Conv1D, MaxPooling1D, Bidirectional, LSTM, Dense, Dropout\n",
    "from tensorflow.keras.metrics import Precision, Recall\n",
    "from tensorflow.keras.optimizers import SGD\n",
    "from tensorflow.keras.optimizers import RMSprop\n",
    "from tensorflow.keras import datasets\n",
    "\n",
    "from tensorflow.keras.callbacks import LearningRateScheduler\n",
    "from tensorflow.keras.callbacks import History\n",
    "\n",
    "from tensorflow.keras import losses\n",
    "\n",
    "vocab_size = 5000\n",
    "embedding_size = 64\n",
    "epochs=10\n",
    "learning_rate = 0.1\n",
    "decay_rate = learning_rate / epochs\n",
    "momentum = 0.8\n",
    "\n",
    "sgd = SGD(lr=learning_rate, momentum=momentum, decay=decay_rate, nesterov=False)\n",
    "# Build model\n",
    "model= Sequential()\n",
    "model.add(Embedding(vocab_size, embedding_size, input_length=max_len))\n",
    "model.add(Conv1D(filters=32, kernel_size=3, padding='same', activation='relu'))\n",
    "model.add(MaxPooling1D(pool_size=2))\n",
    "model.add(Bidirectional(LSTM(64)))\n",
    "model.add(Dropout(0.4))\n",
    "model.add(Dense(3, activation='softmax'))"
   ]
  },
  {
   "cell_type": "code",
   "execution_count": 46,
   "metadata": {},
   "outputs": [
    {
     "name": "stdout",
     "output_type": "stream",
     "text": [
      "Model: \"sequential_4\"\n",
      "_________________________________________________________________\n",
      " Layer (type)                Output Shape              Param #   \n",
      "=================================================================\n",
      " embedding_4 (Embedding)     (None, 50, 64)            320000    \n",
      "                                                                 \n",
      " conv1d_4 (Conv1D)           (None, 50, 32)            6176      \n",
      "                                                                 \n",
      " max_pooling1d_4 (MaxPooling  (None, 25, 32)           0         \n",
      " 1D)                                                             \n",
      "                                                                 \n",
      " bidirectional_4 (Bidirectio  (None, 128)              49664     \n",
      " nal)                                                            \n",
      "                                                                 \n",
      " dropout_4 (Dropout)         (None, 128)               0         \n",
      "                                                                 \n",
      " dense_4 (Dense)             (None, 3)                 387       \n",
      "                                                                 \n",
      "=================================================================\n",
      "Total params: 376,227\n",
      "Trainable params: 376,227\n",
      "Non-trainable params: 0\n",
      "_________________________________________________________________\n",
      "None\n",
      "Epoch 1/10\n",
      "102/102 [==============================] - 11s 56ms/step - loss: 1.1055 - accuracy: 0.3380 - precision_4: 0.0000e+00 - recall_4: 0.0000e+00 - val_loss: 1.1053 - val_accuracy: 0.3000 - val_precision_4: 0.0000e+00 - val_recall_4: 0.0000e+00\n",
      "Epoch 2/10\n",
      "102/102 [==============================] - 4s 37ms/step - loss: 1.0968 - accuracy: 0.3494 - precision_4: 0.0000e+00 - recall_4: 0.0000e+00 - val_loss: 1.1157 - val_accuracy: 0.3806 - val_precision_4: 0.0000e+00 - val_recall_4: 0.0000e+00\n",
      "Epoch 3/10\n",
      "102/102 [==============================] - 4s 37ms/step - loss: 1.0917 - accuracy: 0.3802 - precision_4: 0.0000e+00 - recall_4: 0.0000e+00 - val_loss: 1.0806 - val_accuracy: 0.4213 - val_precision_4: 0.0000e+00 - val_recall_4: 0.0000e+00\n",
      "Epoch 4/10\n",
      "102/102 [==============================] - 4s 36ms/step - loss: 1.0716 - accuracy: 0.4284 - precision_4: 0.7778 - recall_4: 0.0022 - val_loss: 1.0665 - val_accuracy: 0.4370 - val_precision_4: 0.6000 - val_recall_4: 0.0028\n",
      "Epoch 5/10\n",
      "102/102 [==============================] - 4s 38ms/step - loss: 1.0337 - accuracy: 0.4787 - precision_4: 0.6401 - recall_4: 0.0571 - val_loss: 1.0032 - val_accuracy: 0.5370 - val_precision_4: 0.7619 - val_recall_4: 0.0593\n",
      "Epoch 6/10\n",
      "102/102 [==============================] - 4s 41ms/step - loss: 0.9721 - accuracy: 0.5370 - precision_4: 0.7146 - recall_4: 0.1917 - val_loss: 0.9429 - val_accuracy: 0.5250 - val_precision_4: 0.6879 - val_recall_4: 0.3204\n",
      "Epoch 7/10\n",
      "102/102 [==============================] - 4s 41ms/step - loss: 0.9222 - accuracy: 0.5605 - precision_4: 0.7020 - recall_4: 0.2966 - val_loss: 0.9143 - val_accuracy: 0.5380 - val_precision_4: 0.6597 - val_recall_4: 0.3806\n",
      "Epoch 8/10\n",
      "102/102 [==============================] - 4s 39ms/step - loss: 0.8890 - accuracy: 0.5981 - precision_4: 0.7245 - recall_4: 0.3546 - val_loss: 0.8963 - val_accuracy: 0.5463 - val_precision_4: 0.6458 - val_recall_4: 0.4102\n",
      "Epoch 9/10\n",
      "102/102 [==============================] - 4s 44ms/step - loss: 0.8535 - accuracy: 0.6256 - precision_4: 0.7343 - recall_4: 0.4009 - val_loss: 0.8605 - val_accuracy: 0.6120 - val_precision_4: 0.6983 - val_recall_4: 0.4093\n",
      "Epoch 10/10\n",
      "102/102 [==============================] - 4s 42ms/step - loss: 0.8101 - accuracy: 0.6596 - precision_4: 0.7608 - recall_4: 0.4438 - val_loss: 0.8328 - val_accuracy: 0.6315 - val_precision_4: 0.7182 - val_recall_4: 0.4556\n"
     ]
    }
   ],
   "source": [
    "print(model.summary())\n",
    "# Compile model\n",
    "model.compile(loss='categorical_crossentropy', optimizer=sgd, \n",
    "               metrics=['accuracy', Precision(), Recall()])\n",
    "\n",
    "# Train model\n",
    "\n",
    "batch_size = 32\n",
    "history = model.fit(X_train, y_train,\n",
    "                      validation_data=(X_val, y_val),\n",
    "                      batch_size=batch_size, epochs=epochs, verbose=1)"
   ]
  },
  {
   "cell_type": "code",
   "execution_count": 47,
   "metadata": {},
   "outputs": [
    {
     "name": "stdout",
     "output_type": "stream",
     "text": [
      "\n",
      "Accuracy  : 0.6287\n",
      "Precision : 0.7235\n",
      "Recall    : 0.4676\n",
      "F1 Score  : 0.5681\n"
     ]
    }
   ],
   "source": [
    "# Evaluate model on the test set\n",
    "loss, accuracy, precision, recall = model.evaluate(X_test, y_test, verbose=0)\n",
    "# Print metrics\n",
    "print('')\n",
    "print('Accuracy  : {:.4f}'.format(accuracy))\n",
    "print('Precision : {:.4f}'.format(precision))\n",
    "print('Recall    : {:.4f}'.format(recall))\n",
    "print('F1 Score  : {:.4f}'.format(f1_score(precision, recall)))"
   ]
  },
  {
   "cell_type": "code",
   "execution_count": 48,
   "metadata": {},
   "outputs": [
    {
     "data": {
      "image/png": "[encoded data removed]",
      "text/plain": [
       "<Figure size 720x288 with 2 Axes>"
      ]
     },
     "metadata": {
      "needs_background": "light"
     },
     "output_type": "display_data"
    }
   ],
   "source": [
    "def plot_training_hist(history):\n",
    "    '''Function to plot history for accuracy and loss'''\n",
    "    \n",
    "    fig, ax = plt.subplots(1, 2, figsize=(10,4))\n",
    "    # first plot\n",
    "    ax[0].plot(history.history['accuracy'])\n",
    "    ax[0].plot(history.history['val_accuracy'])\n",
    "    ax[0].set_title('Model Accuracy')\n",
    "    ax[0].set_xlabel('epoch')\n",
    "    ax[0].set_ylabel('accuracy')\n",
    "    ax[0].legend(['train', 'validation'], loc='best')\n",
    "    # second plot\n",
    "    ax[1].plot(history.history['loss'])\n",
    "    ax[1].plot(history.history['val_loss'])\n",
    "    ax[1].set_title('Model Loss')\n",
    "    ax[1].set_xlabel('epoch')\n",
    "    ax[1].set_ylabel('loss')\n",
    "    ax[1].legend(['train', 'validation'], loc='best')\n",
    "    \n",
    "plot_training_hist(history)"
   ]
  },
  {
   "cell_type": "code",
   "execution_count": 40,
   "metadata": {},
   "outputs": [
    {
     "data": {
      "image/png": "[encoded data removed]",
      "text/plain": [
       "<Figure size 576x432 with 2 Axes>"
      ]
     },
     "metadata": {
      "needs_background": "light"
     },
     "output_type": "display_data"
    }
   ],
   "source": [
    "\n",
    "def plot_confusion_matrix(model, X_test, y_test):\n",
    "    '''Function to plot confusion matrix for the passed model and the data'''\n",
    "    \n",
    "    sentiment_classes = ['Negative', 'Neutral', 'Positive']\n",
    "    # use model to do the prediction\n",
    "    y_pred = model.predict(X_test)\n",
    "    # compute confusion matrix\n",
    "    cm = confusion_matrix(np.argmax(np.array(y_test),axis=1), np.argmax(y_pred, axis=1))\n",
    "    # plot confusion matrix\n",
    "    plt.figure(figsize=(8,6))\n",
    "    sns.heatmap(cm, cmap=plt.cm.Blues, annot=True, fmt='d', \n",
    "                xticklabels=sentiment_classes,\n",
    "                yticklabels=sentiment_classes)\n",
    "    plt.title('Confusion matrix', fontsize=16)\n",
    "    plt.xlabel('Actual label', fontsize=12)\n",
    "    plt.ylabel('Predicted label', fontsize=12)\n",
    "    \n",
    "plot_confusion_matrix(model, X_test, y_test)"
   ]
  },
  {
   "cell_type": "code",
   "execution_count": 28,
   "metadata": {},
   "outputs": [
    {
     "name": "stdout",
     "output_type": "stream",
     "text": [
      "Best model saved\n"
     ]
    }
   ],
   "source": [
    "# Save the model architecture & the weights\n",
    "model.save('PredictData/best_model.h5')\n",
    "print('Best model saved')"
   ]
  },
  {
   "cell_type": "code",
   "execution_count": 29,
   "metadata": {},
   "outputs": [],
   "source": [
    "from tensorflow.keras.models import load_model\n",
    "\n",
    "# Load model\n",
    "model = load_model('PredictData/best_model.h5')\n",
    "\n",
    "def predict_class(text):\n",
    "    '''Function to predict sentiment class of the passed text'''\n",
    "    \n",
    "    sentiment_classes = ['Negative', 'Neutral', 'Positive']\n",
    "    max_len=50\n",
    "    \n",
    "    # Transforms text to a sequence of integers using a tokenizer object\n",
    "    xt = tokenizer.texts_to_sequences(text)\n",
    "    # Pad sequences to the same length\n",
    "    xt = pad_sequences(xt, padding='post', maxlen=max_len)\n",
    "    # Do the prediction using the loaded model\n",
    "    yt = model.predict(xt).argmax(axis=1)\n",
    "    # Print the predicted sentiment\n",
    "    print('The predicted sentiment is', sentiment_classes[yt[0]])\n",
    "    return sentiment_classes[yt[0]]"
   ]
  },
  {
   "cell_type": "code",
   "execution_count": 30,
   "metadata": {},
   "outputs": [
    {
     "name": "stdout",
     "output_type": "stream",
     "text": [
      "Tweet :  ['Ini keren banget bukunya dian sastro']\n",
      "The predicted sentiment is Positive\n",
      "\n",
      "\n",
      "Tweet :  ['Mau nonton konser Isyana']\n",
      "The predicted sentiment is Neutral\n",
      "\n",
      "\n",
      "Tweet :  ['Jaman ahok jakarta banjir terus']\n",
      "The predicted sentiment is Negative\n",
      "\n",
      "\n"
     ]
    }
   ],
   "source": [
    "tweet =[['Ini keren banget bukunya dian sastro'], ['Mau nonton konser Isyana'], ['Jaman ahok jakarta banjir terus']]\n",
    "print('Tweet : ',tweet[0])\n",
    "predict_class(tweet[0])\n",
    "print('\\n')\n",
    "print('Tweet : ',tweet[1])\n",
    "predict_class(tweet[1])\n",
    "print('\\n')\n",
    "print('Tweet : ',tweet[2])\n",
    "predict_class(tweet[2])\n",
    "print('\\n')\n"
   ]
  },
  {
   "cell_type": "code",
   "execution_count": null,
   "metadata": {},
   "outputs": [],
   "source": []
  },
  {
   "cell_type": "code",
   "execution_count": null,
   "metadata": {},
   "outputs": [],
   "source": []
  },
  {
   "cell_type": "code",
   "execution_count": null,
   "metadata": {},
   "outputs": [],
   "source": []
  },
  {
   "cell_type": "code",
   "execution_count": null,
   "metadata": {},
   "outputs": [],
   "source": []
  }
 ],
 "metadata": {
  "interpreter": {
   "hash": "9672202babfe875da30c3fdcdf920b69c15d9c2dd81dc67dad78a26d63d5040f"
  },
  "kernelspec": {
   "display_name": "Python 3.7.0 64-bit ('base': conda)",
   "language": "python",
   "name": "python3"
  },
  "language_info": {
   "codemirror_mode": {
    "name": "ipython",
    "version": 3
   },
   "file_extension": ".py",
   "mimetype": "text/x-python",
   "name": "python",
   "nbconvert_exporter": "python",
   "pygments_lexer": "ipython3",
   "version": "3.7.0"
  },
  "orig_nbformat": 4
 },
 "nbformat": 4,
 "nbformat_minor": 2
}
